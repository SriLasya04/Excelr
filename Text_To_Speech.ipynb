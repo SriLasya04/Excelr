{
 "cells": [
  {
   "cell_type": "code",
   "execution_count": 1,
   "id": "8c1846cf",
   "metadata": {
    "scrolled": true
   },
   "outputs": [
    {
     "name": "stdout",
     "output_type": "stream",
     "text": [
      "Requirement already satisfied: gTTS in c:\\users\\sreel\\anaconda3\\lib\\site-packages (2.5.4)\n",
      "Requirement already satisfied: requests<3,>=2.27 in c:\\users\\sreel\\anaconda3\\lib\\site-packages (from gTTS) (2.28.1)\n",
      "Requirement already satisfied: click<8.2,>=7.1 in c:\\users\\sreel\\anaconda3\\lib\\site-packages (from gTTS) (8.0.4)\n",
      "Requirement already satisfied: colorama in c:\\users\\sreel\\anaconda3\\lib\\site-packages (from click<8.2,>=7.1->gTTS) (0.4.6)\n",
      "Requirement already satisfied: charset-normalizer<3,>=2 in c:\\users\\sreel\\anaconda3\\lib\\site-packages (from requests<3,>=2.27->gTTS) (2.0.4)\n",
      "Requirement already satisfied: urllib3<1.27,>=1.21.1 in c:\\users\\sreel\\anaconda3\\lib\\site-packages (from requests<3,>=2.27->gTTS) (1.26.14)\n",
      "Requirement already satisfied: idna<4,>=2.5 in c:\\users\\sreel\\anaconda3\\lib\\site-packages (from requests<3,>=2.27->gTTS) (3.4)\n",
      "Requirement already satisfied: certifi>=2017.4.17 in c:\\users\\sreel\\anaconda3\\lib\\site-packages (from requests<3,>=2.27->gTTS) (2022.12.7)\n"
     ]
    }
   ],
   "source": [
    "!pip install gTTS"
   ]
  },
  {
   "cell_type": "code",
   "execution_count": 2,
   "id": "9134c91a",
   "metadata": {},
   "outputs": [],
   "source": [
    "from gtts import gTTS"
   ]
  },
  {
   "cell_type": "code",
   "execution_count": 3,
   "id": "0103392a",
   "metadata": {},
   "outputs": [],
   "source": [
    "convert = gTTS(text='I like this NLP. How about dude!', lang=\"en\", slow=False)\n",
    "convert.save(\"audio.mp3\")"
   ]
  },
  {
   "cell_type": "code",
   "execution_count": 4,
   "id": "97eb497b",
   "metadata": {},
   "outputs": [
    {
     "name": "stdout",
     "output_type": "stream",
     "text": [
      "Requirement already satisfied: pyttsx3 in c:\\users\\sreel\\anaconda3\\lib\\site-packages (2.98)\n",
      "Requirement already satisfied: pywin32 in c:\\users\\sreel\\anaconda3\\lib\\site-packages (from pyttsx3) (305.1)\n",
      "Requirement already satisfied: pypiwin32 in c:\\users\\sreel\\anaconda3\\lib\\site-packages (from pyttsx3) (223)\n",
      "Requirement already satisfied: comtypes in c:\\users\\sreel\\anaconda3\\lib\\site-packages (from pyttsx3) (1.4.10)\n"
     ]
    }
   ],
   "source": [
    "!pip3 install pyttsx3"
   ]
  },
  {
   "cell_type": "code",
   "execution_count": 5,
   "id": "cedb8e39",
   "metadata": {},
   "outputs": [],
   "source": [
    "import pyttsx3\n",
    "engine = pyttsx3.init()\n",
    "engine.say(\"Hi, I am text to speak\")\n",
    "engine.runAndWait()"
   ]
  },
  {
   "cell_type": "code",
   "execution_count": 6,
   "id": "810d3533",
   "metadata": {},
   "outputs": [],
   "source": [
    "text=['This is introduction to NLP','It is likely to be useful, to people ',\\\n",
    "      'Machine learning is the new electrcity','There would be less hype around AI and more action going forward',\\\n",
    "      'python is the best tool!','R is good langauage',\\\n",
    "      'I want more books like this']"
   ]
  },
  {
   "cell_type": "code",
   "execution_count": 7,
   "id": "3ad8febf",
   "metadata": {},
   "outputs": [],
   "source": [
    "engine = pyttsx3.init()\n",
    "engine.say(text)\n",
    "engine.runAndWait()"
   ]
  },
  {
   "cell_type": "code",
   "execution_count": 8,
   "id": "7c199f14",
   "metadata": {},
   "outputs": [
    {
     "name": "stdout",
     "output_type": "stream",
     "text": [
      "200\n",
      "1.0\n"
     ]
    }
   ],
   "source": [
    "import pyttsx3\n",
    "engine = pyttsx3.init() # object creation\n",
    "\"\"\" RATE\"\"\"\n",
    "rate = engine.getProperty('rate')   # getting details of current speaking rate\n",
    "print (rate)                        #printing current voice rate\n",
    "engine.setProperty('rate', 150)     # setting up new voice rate\n",
    "\"\"\"VOLUME\"\"\"\n",
    "volume = engine.getProperty('volume')   #getting to know current volume level (min=0 and max=1)\n",
    "print (volume)                          #printing current volume level\n",
    "engine.setProperty('volume',1.0)    # setting up volume level  between 0 and 1\n",
    "\"\"\"VOICE\"\"\"\n",
    "voices = engine.getProperty('voices')       #getting details of current voice\n",
    "#engine.setProperty('voice', voices[0].id)  #changing index, changes voices. o for male\n",
    "engine.setProperty('voice', voices[1].id)   #changing index, changes voices. 1 for female\n",
    "engine.say(\"Hello World!\")\n",
    "engine.say('My current speaking rate is ' + str(rate))\n",
    "engine.say('My current speaking volume is ' + str(volume))\n",
    "engine.runAndWait()"
   ]
  },
  {
   "cell_type": "code",
   "execution_count": 14,
   "id": "000dbd31",
   "metadata": {},
   "outputs": [
    {
     "name": "stdout",
     "output_type": "stream",
     "text": [
      "Collecting goslate\n",
      "  Using cached goslate-1.5.4.tar.gz (14 kB)\n",
      "  Preparing metadata (setup.py): started\n",
      "  Preparing metadata (setup.py): finished with status 'done'\n",
      "Collecting futures\n",
      "  Using cached futures-3.0.5.tar.gz (25 kB)\n",
      "  Preparing metadata (setup.py): started\n",
      "  Preparing metadata (setup.py): finished with status 'error'\n"
     ]
    },
    {
     "name": "stderr",
     "output_type": "stream",
     "text": [
      "  error: subprocess-exited-with-error\n",
      "  \n",
      "  python setup.py egg_info did not run successfully.\n",
      "  exit code: 1\n",
      "  \n",
      "  [27 lines of output]\n",
      "  Traceback (most recent call last):\n",
      "    File \"<string>\", line 2, in <module>\n",
      "    File \"<pip-setuptools-caller>\", line 14, in <module>\n",
      "    File \"C:\\Users\\sreel\\anaconda3\\lib\\site-packages\\setuptools\\__init__.py\", line 247, in <module>\n",
      "      monkey.patch_all()\n",
      "    File \"C:\\Users\\sreel\\anaconda3\\lib\\site-packages\\setuptools\\monkey.py\", line 97, in patch_all\n",
      "      patch_for_msvc_specialized_compiler()\n",
      "    File \"C:\\Users\\sreel\\anaconda3\\lib\\site-packages\\setuptools\\monkey.py\", line 157, in patch_for_msvc_specialized_compiler\n",
      "      patch_func(*msvc14('_get_vc_env'))\n",
      "    File \"C:\\Users\\sreel\\anaconda3\\lib\\site-packages\\setuptools\\monkey.py\", line 147, in patch_params\n",
      "      mod = import_module(mod_name)\n",
      "    File \"C:\\Users\\sreel\\anaconda3\\lib\\importlib\\__init__.py\", line 126, in import_module\n",
      "      return _bootstrap._gcd_import(name[level:], package, level)\n",
      "    File \"C:\\Users\\sreel\\anaconda3\\lib\\site-packages\\setuptools\\_distutils\\_msvccompiler.py\", line 20, in <module>\n",
      "      import unittest.mock as mock\n",
      "    File \"C:\\Users\\sreel\\anaconda3\\lib\\unittest\\mock.py\", line 26, in <module>\n",
      "      import asyncio\n",
      "    File \"C:\\Users\\sreel\\anaconda3\\lib\\asyncio\\__init__.py\", line 8, in <module>\n",
      "      from .base_events import *\n",
      "    File \"C:\\Users\\sreel\\anaconda3\\lib\\asyncio\\base_events.py\", line 18, in <module>\n",
      "      import concurrent.futures\n",
      "    File \"C:\\Users\\sreel\\AppData\\Local\\Temp\\pip-install-zbb95iqt\\futures_014f12a963ef43c1aac00b91dd7d799a\\concurrent\\futures\\__init__.py\", line 8, in <module>\n",
      "      from concurrent.futures._base import (FIRST_COMPLETED,\n",
      "    File \"C:\\Users\\sreel\\AppData\\Local\\Temp\\pip-install-zbb95iqt\\futures_014f12a963ef43c1aac00b91dd7d799a\\concurrent\\futures\\_base.py\", line 357\n",
      "      raise type(self._exception), self._exception, self._traceback\n",
      "                                 ^\n",
      "  SyntaxError: invalid syntax\n",
      "  [end of output]\n",
      "  \n",
      "  note: This error originates from a subprocess, and is likely not a problem with pip.\n",
      "error: metadata-generation-failed\n",
      "\n",
      "Encountered error while generating package metadata.\n",
      "\n",
      "See above for output.\n",
      "\n",
      "note: This is an issue with the package mentioned above, not pip.\n",
      "hint: See above for details.\n"
     ]
    }
   ],
   "source": [
    "!pip install goslate"
   ]
  },
  {
   "cell_type": "code",
   "execution_count": 15,
   "id": "825a8bdc",
   "metadata": {},
   "outputs": [],
   "source": [
    "import goslate"
   ]
  },
  {
   "cell_type": "code",
   "execution_count": 16,
   "id": "460d50c1",
   "metadata": {},
   "outputs": [
    {
     "name": "stdout",
     "output_type": "stream",
     "text": [
      "<generator object Goslate.translate.<locals>.<genexpr> at 0x0000025536334F20>\n"
     ]
    }
   ],
   "source": [
    "gs = goslate.Goslate()\n",
    "translatedText = gs.translate(text,'en')\n",
    "print(translatedText)"
   ]
  },
  {
   "cell_type": "code",
   "execution_count": 17,
   "id": "37961678",
   "metadata": {},
   "outputs": [
    {
     "name": "stdout",
     "output_type": "stream",
     "text": [
      "Collecting translate\n",
      "  Downloading translate-3.6.1-py2.py3-none-any.whl (12 kB)\n",
      "Requirement already satisfied: click in c:\\users\\sreel\\anaconda3\\lib\\site-packages (from translate) (8.0.4)\n",
      "Requirement already satisfied: requests in c:\\users\\sreel\\anaconda3\\lib\\site-packages (from translate) (2.28.1)\n",
      "Requirement already satisfied: lxml in c:\\users\\sreel\\anaconda3\\lib\\site-packages (from translate) (4.9.1)\n",
      "Collecting libretranslatepy==2.1.1\n",
      "  Downloading libretranslatepy-2.1.1-py3-none-any.whl (3.2 kB)\n",
      "Requirement already satisfied: colorama in c:\\users\\sreel\\anaconda3\\lib\\site-packages (from click->translate) (0.4.6)\n",
      "Requirement already satisfied: certifi>=2017.4.17 in c:\\users\\sreel\\anaconda3\\lib\\site-packages (from requests->translate) (2022.12.7)\n",
      "Requirement already satisfied: charset-normalizer<3,>=2 in c:\\users\\sreel\\anaconda3\\lib\\site-packages (from requests->translate) (2.0.4)\n",
      "Requirement already satisfied: idna<4,>=2.5 in c:\\users\\sreel\\anaconda3\\lib\\site-packages (from requests->translate) (3.4)\n",
      "Requirement already satisfied: urllib3<1.27,>=1.21.1 in c:\\users\\sreel\\anaconda3\\lib\\site-packages (from requests->translate) (1.26.14)\n",
      "Installing collected packages: libretranslatepy, translate\n",
      "Successfully installed libretranslatepy-2.1.1 translate-3.6.1\n"
     ]
    }
   ],
   "source": [
    "!pip install translate"
   ]
  },
  {
   "cell_type": "code",
   "execution_count": 18,
   "id": "4859292b",
   "metadata": {},
   "outputs": [
    {
     "data": {
      "text/plain": [
       "'ఎలా ఉనారు ?'"
      ]
     },
     "execution_count": 18,
     "metadata": {},
     "output_type": "execute_result"
    }
   ],
   "source": [
    "from translate import Translator\n",
    "translator= Translator(to_lang=\"te\")\n",
    "translation = translator.translate(\"How are you?\")\n",
    "translation"
   ]
  },
  {
   "cell_type": "code",
   "execution_count": 19,
   "id": "6a15c1dc",
   "metadata": {},
   "outputs": [
    {
     "data": {
      "text/plain": [
       "'कशी आहेस?'"
      ]
     },
     "execution_count": 19,
     "metadata": {},
     "output_type": "execute_result"
    }
   ],
   "source": [
    "# # traslating text to marathi\n",
    "from translate import Translator\n",
    "translator= Translator(to_lang=\"mr\")\n",
    "translation = translator.translate(\"How are you?\")\n",
    "translation"
   ]
  },
  {
   "cell_type": "code",
   "execution_count": 20,
   "id": "8a757760",
   "metadata": {},
   "outputs": [
    {
     "data": {
      "text/plain": [
       "'உங்கள் மகள் எப்படி இருக்கிறார்?'"
      ]
     },
     "execution_count": 20,
     "metadata": {},
     "output_type": "execute_result"
    }
   ],
   "source": [
    "# # traslating text to tamil\n",
    "from translate import Translator\n",
    "translator= Translator(to_lang=\"ta\")\n",
    "translation = translator.translate(\"How are you?\")\n",
    "translation"
   ]
  },
  {
   "cell_type": "code",
   "execution_count": 21,
   "id": "dbcade43",
   "metadata": {},
   "outputs": [
    {
     "data": {
      "text/plain": [
       "'어떻게 지내세요?'"
      ]
     },
     "execution_count": 21,
     "metadata": {},
     "output_type": "execute_result"
    }
   ],
   "source": [
    "# # traslating text to korean\n",
    "from translate import Translator\n",
    "translator= Translator(to_lang=\"ko\")\n",
    "translation = translator.translate(\"How are you?\")\n",
    "translation"
   ]
  },
  {
   "cell_type": "code",
   "execution_count": 22,
   "id": "34f6eb3d",
   "metadata": {},
   "outputs": [
    {
     "data": {
      "text/plain": [
       "'สบายดีใช่ไหม'"
      ]
     },
     "execution_count": 22,
     "metadata": {},
     "output_type": "execute_result"
    }
   ],
   "source": [
    "# # traslating text to thai\n",
    "from translate import Translator\n",
    "translator= Translator(to_lang=\"th\")\n",
    "translation = translator.translate(\"How are you?\")\n",
    "translation"
   ]
  },
  {
   "cell_type": "code",
   "execution_count": 23,
   "id": "1d018db5",
   "metadata": {},
   "outputs": [
    {
     "name": "stdout",
     "output_type": "stream",
     "text": [
      "Collecting python-vlc\n",
      "  Downloading python_vlc-3.0.21203-py3-none-any.whl (87 kB)\n",
      "     -------------------------------------- 87.7/87.7 kB 353.5 kB/s eta 0:00:00\n",
      "Installing collected packages: python-vlc\n",
      "Successfully installed python-vlc-3.0.21203\n"
     ]
    }
   ],
   "source": [
    "!pip install python-vlc"
   ]
  },
  {
   "cell_type": "code",
   "execution_count": 30,
   "id": "ebbb1cbc",
   "metadata": {},
   "outputs": [
    {
     "ename": "FileNotFoundError",
     "evalue": "Could not find module 'C:\\Users\\sreel\\Documents\\AD\\libvlc.dll' (or one of its dependencies). Try using the full path with constructor syntax.",
     "output_type": "error",
     "traceback": [
      "\u001b[1;31m---------------------------------------------------------------------------\u001b[0m",
      "\u001b[1;31mFileNotFoundError\u001b[0m                         Traceback (most recent call last)",
      "Cell \u001b[1;32mIn[30], line 1\u001b[0m\n\u001b[1;32m----> 1\u001b[0m \u001b[38;5;28;01mimport\u001b[39;00m \u001b[38;5;21;01mvlc\u001b[39;00m\n\u001b[0;32m      2\u001b[0m p \u001b[38;5;241m=\u001b[39m vlc\u001b[38;5;241m.\u001b[39mMediaPlayer(\u001b[38;5;124m\"\u001b[39m\u001b[38;5;124maudio1.mp3\u001b[39m\u001b[38;5;124m\"\u001b[39m)\n\u001b[0;32m      3\u001b[0m p\u001b[38;5;241m.\u001b[39mplay()\n",
      "File \u001b[1;32m~\\anaconda3\\lib\\site-packages\\vlc.py:197\u001b[0m\n\u001b[0;32m    193\u001b[0m     \u001b[38;5;28;01mreturn\u001b[39;00m (dll, plugin_path)\n\u001b[0;32m    196\u001b[0m \u001b[38;5;66;03m# plugin_path used on win32 and MacOS in override.py\u001b[39;00m\n\u001b[1;32m--> 197\u001b[0m dll, plugin_path \u001b[38;5;241m=\u001b[39m \u001b[43mfind_lib\u001b[49m\u001b[43m(\u001b[49m\u001b[43m)\u001b[49m\n\u001b[0;32m    200\u001b[0m \u001b[38;5;28;01mclass\u001b[39;00m \u001b[38;5;21;01mVLCException\u001b[39;00m(\u001b[38;5;167;01mException\u001b[39;00m):\n\u001b[0;32m    201\u001b[0m     \u001b[38;5;124;03m\"\"\"Exception raised by libvlc methods.\"\"\"\u001b[39;00m\n",
      "File \u001b[1;32m~\\anaconda3\\lib\\site-packages\\vlc.py:156\u001b[0m, in \u001b[0;36mfind_lib\u001b[1;34m()\u001b[0m\n\u001b[0;32m    154\u001b[0m         os\u001b[38;5;241m.\u001b[39mchdir(p)\n\u001b[0;32m    155\u001b[0m     \u001b[38;5;28;01melse\u001b[39;00m:  \u001b[38;5;66;03m# may fail\u001b[39;00m\n\u001b[1;32m--> 156\u001b[0m         dll \u001b[38;5;241m=\u001b[39m \u001b[43mctypes\u001b[49m\u001b[38;5;241;43m.\u001b[39;49m\u001b[43mCDLL\u001b[49m\u001b[43m(\u001b[49m\u001b[38;5;124;43m\"\u001b[39;49m\u001b[38;5;124;43m.\u001b[39;49m\u001b[38;5;130;43;01m\\\\\u001b[39;49;00m\u001b[38;5;124;43m\"\u001b[39;49m\u001b[43m \u001b[49m\u001b[38;5;241;43m+\u001b[39;49m\u001b[43m \u001b[49m\u001b[43mlibname\u001b[49m\u001b[43m)\u001b[49m\n\u001b[0;32m    157\u001b[0m \u001b[38;5;28;01melse\u001b[39;00m:\n\u001b[0;32m    158\u001b[0m     plugin_path \u001b[38;5;241m=\u001b[39m os\u001b[38;5;241m.\u001b[39mpath\u001b[38;5;241m.\u001b[39mdirname(p)\n",
      "File \u001b[1;32m~\\anaconda3\\lib\\ctypes\\__init__.py:374\u001b[0m, in \u001b[0;36mCDLL.__init__\u001b[1;34m(self, name, mode, handle, use_errno, use_last_error, winmode)\u001b[0m\n\u001b[0;32m    371\u001b[0m \u001b[38;5;28mself\u001b[39m\u001b[38;5;241m.\u001b[39m_FuncPtr \u001b[38;5;241m=\u001b[39m _FuncPtr\n\u001b[0;32m    373\u001b[0m \u001b[38;5;28;01mif\u001b[39;00m handle \u001b[38;5;129;01mis\u001b[39;00m \u001b[38;5;28;01mNone\u001b[39;00m:\n\u001b[1;32m--> 374\u001b[0m     \u001b[38;5;28mself\u001b[39m\u001b[38;5;241m.\u001b[39m_handle \u001b[38;5;241m=\u001b[39m \u001b[43m_dlopen\u001b[49m\u001b[43m(\u001b[49m\u001b[38;5;28;43mself\u001b[39;49m\u001b[38;5;241;43m.\u001b[39;49m\u001b[43m_name\u001b[49m\u001b[43m,\u001b[49m\u001b[43m \u001b[49m\u001b[43mmode\u001b[49m\u001b[43m)\u001b[49m\n\u001b[0;32m    375\u001b[0m \u001b[38;5;28;01melse\u001b[39;00m:\n\u001b[0;32m    376\u001b[0m     \u001b[38;5;28mself\u001b[39m\u001b[38;5;241m.\u001b[39m_handle \u001b[38;5;241m=\u001b[39m handle\n",
      "\u001b[1;31mFileNotFoundError\u001b[0m: Could not find module 'C:\\Users\\sreel\\Documents\\AD\\libvlc.dll' (or one of its dependencies). Try using the full path with constructor syntax."
     ]
    }
   ],
   "source": [
    "import vlc\n",
    "p = vlc.MediaPlayer(\"audio1.mp3\")\n",
    "p.play()"
   ]
  },
  {
   "cell_type": "code",
   "execution_count": 31,
   "id": "91c6e852",
   "metadata": {},
   "outputs": [
    {
     "name": "stdout",
     "output_type": "stream",
     "text": [
      "Collecting playsound\n",
      "  Downloading playsound-1.3.0.tar.gz (7.7 kB)\n",
      "  Preparing metadata (setup.py): started\n",
      "  Preparing metadata (setup.py): finished with status 'done'\n",
      "Building wheels for collected packages: playsound\n",
      "  Building wheel for playsound (setup.py): started\n",
      "  Building wheel for playsound (setup.py): finished with status 'done'\n",
      "  Created wheel for playsound: filename=playsound-1.3.0-py3-none-any.whl size=7046 sha256=b4f4a4fabc566d71d106696d700babd028cdad1315540d78b8c49daa75a1f762\n",
      "  Stored in directory: c:\\users\\sreel\\appdata\\local\\pip\\cache\\wheels\\24\\f9\\b3\\2ed63b5d2a91bbf7da060acdc294c1335db338ec81f0c76e1b\n",
      "Successfully built playsound\n",
      "Installing collected packages: playsound\n",
      "Successfully installed playsound-1.3.0\n"
     ]
    }
   ],
   "source": [
    "!pip install playsound"
   ]
  },
  {
   "cell_type": "code",
   "execution_count": 32,
   "id": "31cec892",
   "metadata": {},
   "outputs": [
    {
     "name": "stderr",
     "output_type": "stream",
     "text": [
      "\n",
      "    Error 263 for command:\n",
      "        close audio.mp3\n",
      "    The specified device is not open or is not recognized by MCI.\n",
      "Failed to close the file: audio.mp3\n"
     ]
    },
    {
     "name": "stdout",
     "output_type": "stream",
     "text": [
      "playing sound using playsound\n"
     ]
    }
   ],
   "source": [
    "import playsound as pl\n",
    "pl.playsound('audio.mp3')\n",
    "print('playing sound using playsound')"
   ]
  },
  {
   "cell_type": "code",
   "execution_count": 33,
   "id": "039a625d",
   "metadata": {},
   "outputs": [
    {
     "name": "stdout",
     "output_type": "stream",
     "text": [
      "Collecting SpeechRecognition\n",
      "  Downloading SpeechRecognition-3.14.1-py3-none-any.whl (32.9 MB)\n",
      "     ---------------------------------------- 32.9/32.9 MB 2.8 MB/s eta 0:00:00\n",
      "Requirement already satisfied: typing-extensions in c:\\users\\sreel\\anaconda3\\lib\\site-packages (from SpeechRecognition) (4.4.0)\n",
      "Installing collected packages: SpeechRecognition\n",
      "Successfully installed SpeechRecognition-3.14.1\n"
     ]
    }
   ],
   "source": [
    "!pip install SpeechRecognition"
   ]
  },
  {
   "cell_type": "code",
   "execution_count": 34,
   "id": "ebd10e5b",
   "metadata": {},
   "outputs": [
    {
     "name": "stdout",
     "output_type": "stream",
     "text": [
      "Collecting PyAudio\n",
      "  Downloading PyAudio-0.2.14-cp310-cp310-win_amd64.whl (164 kB)\n",
      "     -------------------------------------- 164.1/164.1 kB 3.3 MB/s eta 0:00:00\n",
      "Installing collected packages: PyAudio\n",
      "Successfully installed PyAudio-0.2.14\n"
     ]
    }
   ],
   "source": [
    "!pip install PyAudio"
   ]
  },
  {
   "cell_type": "code",
   "execution_count": 35,
   "id": "ae928bdd",
   "metadata": {},
   "outputs": [
    {
     "name": "stdout",
     "output_type": "stream",
     "text": [
      "Please say something\n"
     ]
    }
   ],
   "source": [
    "import speech_recognition as sr\n",
    "r=sr.Recognizer()\n",
    "with sr.Microphone() as source:\n",
    "    print(\"Please say something\")\n",
    "    audio = r.listen(source)\n",
    "    #print(\"Time over, thanks\")\n",
    "try:\n",
    "    print(\"I think you said: \"+r.recognize_google(audio));\n",
    "except:\n",
    "    pass"
   ]
  },
  {
   "cell_type": "code",
   "execution_count": null,
   "id": "722b1522",
   "metadata": {},
   "outputs": [],
   "source": []
  }
 ],
 "metadata": {
  "kernelspec": {
   "display_name": "Python 3 (ipykernel)",
   "language": "python",
   "name": "python3"
  },
  "language_info": {
   "codemirror_mode": {
    "name": "ipython",
    "version": 3
   },
   "file_extension": ".py",
   "mimetype": "text/x-python",
   "name": "python",
   "nbconvert_exporter": "python",
   "pygments_lexer": "ipython3",
   "version": "3.10.9"
  }
 },
 "nbformat": 4,
 "nbformat_minor": 5
}

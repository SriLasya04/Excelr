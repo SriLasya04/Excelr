{
  "nbformat": 4,
  "nbformat_minor": 0,
  "metadata": {
    "colab": {
      "provenance": [],
      "authorship_tag": "ABX9TyMlq0s6JsPYKRjA7h885FMq",
      "include_colab_link": true
    },
    "kernelspec": {
      "name": "python3",
      "display_name": "Python 3"
    },
    "language_info": {
      "name": "python"
    }
  },
  "cells": [
    {
      "cell_type": "markdown",
      "metadata": {
        "id": "view-in-github",
        "colab_type": "text"
      },
      "source": [
        "<a href=\"https://colab.research.google.com/github/SriLasya04/Excelr-NLP/blob/main/Rule_based_Chatbot.ipynb\" target=\"_parent\"><img src=\"https://colab.research.google.com/assets/colab-badge.svg\" alt=\"Open In Colab\"/></a>"
      ]
    },
    {
      "cell_type": "code",
      "execution_count": 1,
      "metadata": {
        "id": "skqYWg2yAgOb"
      },
      "outputs": [],
      "source": [
        "import nltk\n",
        "import re\n",
        "from nltk.chat.util import Chat, reflections"
      ]
    },
    {
      "cell_type": "code",
      "source": [
        "nltk.download('punkt')\n",
        "nltk.download('averaged_perceptron_tagger')"
      ],
      "metadata": {
        "colab": {
          "base_uri": "https://localhost:8080/"
        },
        "id": "A82axdJuArUn",
        "outputId": "721f89ce-aaad-4b5b-bde5-6d10ac97b898"
      },
      "execution_count": 2,
      "outputs": [
        {
          "output_type": "stream",
          "name": "stderr",
          "text": [
            "[nltk_data] Downloading package punkt to /root/nltk_data...\n",
            "[nltk_data]   Unzipping tokenizers/punkt.zip.\n",
            "[nltk_data] Downloading package averaged_perceptron_tagger to\n",
            "[nltk_data]     /root/nltk_data...\n",
            "[nltk_data]   Unzipping taggers/averaged_perceptron_tagger.zip.\n"
          ]
        },
        {
          "output_type": "execute_result",
          "data": {
            "text/plain": [
              "True"
            ]
          },
          "metadata": {},
          "execution_count": 2
        }
      ]
    },
    {
      "cell_type": "code",
      "source": [
        "pairs = [\n",
        "    [r\"my name is (.*)\", [\"Hello %1, how can I assist you today?\",]],\n",
        "    [r\"hi|hey|hello\", [\"Hello, how can I help you?\", \"Hey there! What can I do for you?\",\n",
        "                       \"Hi! How can I assist you today?\"]],\n",
        "    [r\"what is your name?\", [\"I am a chatbot created to assist you. You can call me Chatbot.\",]],\n",
        "    [r\"how are you?\", [\"I'm a bot, so I don't have feelings, but I'm here to help you!\",]],\n",
        "    [r\"can you help me with (.*)\", [\"Sure, I can help you with %1. Please provide more details.\",]],\n",
        "    [r\"sorry (.*)\", [\"It's okay. How can I assist you?\",]],\n",
        "    [r\"thank you|thanks\", [\"You're welcome!\", \"No problem!\", \"Happy to help!\"]],\n",
        "    [r\"quit\", [\"Bye! Have a great day!\", \"Goodbye!\"]],\n",
        "    [r\"(.*)\", [\"I'm sorry, I don't understand that. Can you rephrase?\",\n",
        "               \"Could you please elaborate on that?\"]]\n",
        "]"
      ],
      "metadata": {
        "id": "72CXayEiAwkr"
      },
      "execution_count": 3,
      "outputs": []
    },
    {
      "cell_type": "code",
      "source": [],
      "metadata": {
        "id": "auvngRkwBJdc"
      },
      "execution_count": null,
      "outputs": []
    }
  ]
}